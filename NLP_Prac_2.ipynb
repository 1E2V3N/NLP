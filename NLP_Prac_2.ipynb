{
 "cells": [
  {
   "cell_type": "code",
   "execution_count": 4,
   "id": "f542c7fd",
   "metadata": {},
   "outputs": [
    {
     "name": "stdout",
     "output_type": "stream",
     "text": [
      "Requirement already satisfied: inltk in c:\\users\\admin\\anaconda3\\lib\\site-packages (0.9)\n",
      "Requirement already satisfied: scipy in c:\\users\\admin\\anaconda3\\lib\\site-packages (from inltk) (1.7.3)\n",
      "Requirement already satisfied: bottleneck in c:\\users\\admin\\anaconda3\\lib\\site-packages (from inltk) (1.3.4)\n",
      "Requirement already satisfied: beautifulsoup4 in c:\\users\\admin\\anaconda3\\lib\\site-packages (from inltk) (4.11.1)\n",
      "Requirement already satisfied: numpy>=1.15 in c:\\users\\admin\\anaconda3\\lib\\site-packages (from inltk) (1.21.5)\n",
      "Requirement already satisfied: numexpr in c:\\users\\admin\\anaconda3\\lib\\site-packages (from inltk) (2.8.1)\n",
      "Requirement already satisfied: fastai==1.0.57 in c:\\users\\admin\\anaconda3\\lib\\site-packages (from inltk) (1.0.57)\n",
      "Requirement already satisfied: fastprogress>=0.1.19 in c:\\users\\admin\\anaconda3\\lib\\site-packages (from inltk) (1.0.3)\n",
      "Requirement already satisfied: async-timeout>=3.0.1 in c:\\users\\admin\\anaconda3\\lib\\site-packages (from inltk) (4.0.1)\n",
      "Requirement already satisfied: sentencepiece in c:\\users\\admin\\anaconda3\\lib\\site-packages (from inltk) (0.1.97)\n",
      "Requirement already satisfied: spacy>=2.0.18 in c:\\users\\admin\\anaconda3\\lib\\site-packages (from inltk) (3.4.1)\n",
      "Requirement already satisfied: matplotlib in c:\\users\\admin\\anaconda3\\lib\\site-packages (from inltk) (3.5.1)\n",
      "Requirement already satisfied: packaging in c:\\users\\admin\\anaconda3\\lib\\site-packages (from inltk) (21.3)\n",
      "Requirement already satisfied: requests in c:\\users\\admin\\anaconda3\\lib\\site-packages (from inltk) (2.27.1)\n",
      "Requirement already satisfied: pyyaml in c:\\users\\admin\\anaconda3\\lib\\site-packages (from inltk) (6.0)\n",
      "Requirement already satisfied: Pillow in c:\\users\\admin\\anaconda3\\lib\\site-packages (from inltk) (9.0.1)\n",
      "Requirement already satisfied: aiohttp>=3.5.4 in c:\\users\\admin\\anaconda3\\lib\\site-packages (from inltk) (3.8.1)\n",
      "Requirement already satisfied: nvidia-ml-py3 in c:\\users\\admin\\anaconda3\\lib\\site-packages (from inltk) (7.352.0)\n",
      "Requirement already satisfied: pandas in c:\\users\\admin\\anaconda3\\lib\\site-packages (from inltk) (1.4.2)\n",
      "Requirement already satisfied: typing in c:\\users\\admin\\anaconda3\\lib\\site-packages (from inltk) (3.7.4.3)\n",
      "Requirement already satisfied: torch>=1.0.0 in c:\\users\\admin\\anaconda3\\lib\\site-packages (from fastai==1.0.57->inltk) (1.12.1)\n",
      "Requirement already satisfied: torchvision in c:\\users\\admin\\anaconda3\\lib\\site-packages (from fastai==1.0.57->inltk) (0.13.1)\n",
      "Requirement already satisfied: yarl<2.0,>=1.0 in c:\\users\\admin\\anaconda3\\lib\\site-packages (from aiohttp>=3.5.4->inltk) (1.6.3)\n",
      "Requirement already satisfied: multidict<7.0,>=4.5 in c:\\users\\admin\\anaconda3\\lib\\site-packages (from aiohttp>=3.5.4->inltk) (5.1.0)\n",
      "Requirement already satisfied: charset-normalizer<3.0,>=2.0 in c:\\users\\admin\\anaconda3\\lib\\site-packages (from aiohttp>=3.5.4->inltk) (2.0.4)\n",
      "Requirement already satisfied: aiosignal>=1.1.2 in c:\\users\\admin\\anaconda3\\lib\\site-packages (from aiohttp>=3.5.4->inltk) (1.2.0)\n",
      "Requirement already satisfied: frozenlist>=1.1.1 in c:\\users\\admin\\anaconda3\\lib\\site-packages (from aiohttp>=3.5.4->inltk) (1.2.0)\n",
      "Requirement already satisfied: attrs>=17.3.0 in c:\\users\\admin\\anaconda3\\lib\\site-packages (from aiohttp>=3.5.4->inltk) (21.4.0)\n",
      "Requirement already satisfied: typing-extensions>=3.6.5 in c:\\users\\admin\\anaconda3\\lib\\site-packages (from async-timeout>=3.0.1->inltk) (4.1.1)\n",
      "Requirement already satisfied: cymem<2.1.0,>=2.0.2 in c:\\users\\admin\\anaconda3\\lib\\site-packages (from spacy>=2.0.18->inltk) (2.0.6)\n",
      "Requirement already satisfied: wasabi<1.1.0,>=0.9.1 in c:\\users\\admin\\anaconda3\\lib\\site-packages (from spacy>=2.0.18->inltk) (0.10.1)\n",
      "Requirement already satisfied: pydantic!=1.8,!=1.8.1,<1.10.0,>=1.7.4 in c:\\users\\admin\\anaconda3\\lib\\site-packages (from spacy>=2.0.18->inltk) (1.9.2)\n",
      "Requirement already satisfied: jinja2 in c:\\users\\admin\\anaconda3\\lib\\site-packages (from spacy>=2.0.18->inltk) (2.11.3)\n",
      "Requirement already satisfied: thinc<8.2.0,>=8.1.0 in c:\\users\\admin\\anaconda3\\lib\\site-packages (from spacy>=2.0.18->inltk) (8.1.0)\n",
      "Requirement already satisfied: catalogue<2.1.0,>=2.0.6 in c:\\users\\admin\\anaconda3\\lib\\site-packages (from spacy>=2.0.18->inltk) (2.0.8)\n",
      "Requirement already satisfied: typer<0.5.0,>=0.3.0 in c:\\users\\admin\\anaconda3\\lib\\site-packages (from spacy>=2.0.18->inltk) (0.4.2)\n",
      "Requirement already satisfied: murmurhash<1.1.0,>=0.28.0 in c:\\users\\admin\\anaconda3\\lib\\site-packages (from spacy>=2.0.18->inltk) (1.0.8)\n",
      "Requirement already satisfied: langcodes<4.0.0,>=3.2.0 in c:\\users\\admin\\anaconda3\\lib\\site-packages (from spacy>=2.0.18->inltk) (3.3.0)\n",
      "Requirement already satisfied: spacy-loggers<2.0.0,>=1.0.0 in c:\\users\\admin\\anaconda3\\lib\\site-packages (from spacy>=2.0.18->inltk) (1.0.3)\n",
      "Requirement already satisfied: tqdm<5.0.0,>=4.38.0 in c:\\users\\admin\\anaconda3\\lib\\site-packages (from spacy>=2.0.18->inltk) (4.64.0)\n",
      "Requirement already satisfied: spacy-legacy<3.1.0,>=3.0.9 in c:\\users\\admin\\anaconda3\\lib\\site-packages (from spacy>=2.0.18->inltk) (3.0.9)\n",
      "Requirement already satisfied: setuptools in c:\\users\\admin\\anaconda3\\lib\\site-packages (from spacy>=2.0.18->inltk) (61.2.0)\n",
      "Requirement already satisfied: srsly<3.0.0,>=2.4.3 in c:\\users\\admin\\anaconda3\\lib\\site-packages (from spacy>=2.0.18->inltk) (2.4.4)\n",
      "Requirement already satisfied: pathy>=0.3.5 in c:\\users\\admin\\anaconda3\\lib\\site-packages (from spacy>=2.0.18->inltk) (0.6.2)\n",
      "Requirement already satisfied: preshed<3.1.0,>=3.0.2 in c:\\users\\admin\\anaconda3\\lib\\site-packages (from spacy>=2.0.18->inltk) (3.0.7)\n",
      "Requirement already satisfied: pyparsing!=3.0.5,>=2.0.2 in c:\\users\\admin\\anaconda3\\lib\\site-packages (from packaging->inltk) (3.0.4)\n",
      "Requirement already satisfied: smart-open<6.0.0,>=5.2.1 in c:\\users\\admin\\anaconda3\\lib\\site-packages (from pathy>=0.3.5->spacy>=2.0.18->inltk) (5.2.1)\n",
      "Requirement already satisfied: urllib3<1.27,>=1.21.1 in c:\\users\\admin\\anaconda3\\lib\\site-packages (from requests->inltk) (1.26.9)\n",
      "Requirement already satisfied: idna<4,>=2.5 in c:\\users\\admin\\anaconda3\\lib\\site-packages (from requests->inltk) (3.3)\n",
      "Requirement already satisfied: certifi>=2017.4.17 in c:\\users\\admin\\anaconda3\\lib\\site-packages (from requests->inltk) (2021.10.8)\n",
      "Requirement already satisfied: blis<0.8.0,>=0.7.8 in c:\\users\\admin\\anaconda3\\lib\\site-packages (from thinc<8.2.0,>=8.1.0->spacy>=2.0.18->inltk) (0.7.8)\n",
      "Requirement already satisfied: colorama in c:\\users\\admin\\anaconda3\\lib\\site-packages (from tqdm<5.0.0,>=4.38.0->spacy>=2.0.18->inltk) (0.4.4)\n",
      "Requirement already satisfied: click<9.0.0,>=7.1.1 in c:\\users\\admin\\anaconda3\\lib\\site-packages (from typer<0.5.0,>=0.3.0->spacy>=2.0.18->inltk) (8.0.4)\n",
      "Requirement already satisfied: soupsieve>1.2 in c:\\users\\admin\\anaconda3\\lib\\site-packages (from beautifulsoup4->inltk) (2.3.1)\n",
      "Requirement already satisfied: MarkupSafe>=0.23 in c:\\users\\admin\\anaconda3\\lib\\site-packages (from jinja2->spacy>=2.0.18->inltk) (2.0.1)\n",
      "Requirement already satisfied: python-dateutil>=2.7 in c:\\users\\admin\\anaconda3\\lib\\site-packages (from matplotlib->inltk) (2.8.2)\n",
      "Requirement already satisfied: kiwisolver>=1.0.1 in c:\\users\\admin\\anaconda3\\lib\\site-packages (from matplotlib->inltk) (1.3.2)\n",
      "Requirement already satisfied: fonttools>=4.22.0 in c:\\users\\admin\\anaconda3\\lib\\site-packages (from matplotlib->inltk) (4.25.0)\n",
      "Requirement already satisfied: cycler>=0.10 in c:\\users\\admin\\anaconda3\\lib\\site-packages (from matplotlib->inltk) (0.11.0)\n",
      "Requirement already satisfied: six>=1.5 in c:\\users\\admin\\anaconda3\\lib\\site-packages (from python-dateutil>=2.7->matplotlib->inltk) (1.16.0)\n",
      "Requirement already satisfied: pytz>=2020.1 in c:\\users\\admin\\anaconda3\\lib\\site-packages (from pandas->inltk) (2021.3)\n",
      "Note: you may need to restart the kernel to use updated packages.\n"
     ]
    }
   ],
   "source": [
    "pip install inltk"
   ]
  },
  {
   "cell_type": "code",
   "execution_count": 10,
   "id": "0dc35029",
   "metadata": {},
   "outputs": [
    {
     "ename": "RuntimeError",
     "evalue": "This event loop is already running",
     "output_type": "error",
     "traceback": [
      "\u001b[1;31m---------------------------------------------------------------------------\u001b[0m",
      "\u001b[1;31mRuntimeError\u001b[0m                              Traceback (most recent call last)",
      "Input \u001b[1;32mIn [10]\u001b[0m, in \u001b[0;36m<cell line: 2>\u001b[1;34m()\u001b[0m\n\u001b[0;32m      1\u001b[0m \u001b[38;5;28;01mfrom\u001b[39;00m \u001b[38;5;21;01minltk\u001b[39;00m\u001b[38;5;21;01m.\u001b[39;00m\u001b[38;5;21;01minltk\u001b[39;00m \u001b[38;5;28;01mimport\u001b[39;00m setup\n\u001b[1;32m----> 2\u001b[0m \u001b[43msetup\u001b[49m\u001b[43m(\u001b[49m\u001b[38;5;124;43m'\u001b[39;49m\u001b[38;5;124;43mml\u001b[39;49m\u001b[38;5;124;43m'\u001b[39;49m\u001b[43m)\u001b[49m\n",
      "File \u001b[1;32m~\\anaconda3\\lib\\site-packages\\inltk\\inltk.py:33\u001b[0m, in \u001b[0;36msetup\u001b[1;34m(language_code)\u001b[0m\n\u001b[0;32m     31\u001b[0m loop \u001b[38;5;241m=\u001b[39m asyncio\u001b[38;5;241m.\u001b[39mget_event_loop()\n\u001b[0;32m     32\u001b[0m tasks \u001b[38;5;241m=\u001b[39m [asyncio\u001b[38;5;241m.\u001b[39mensure_future(download(language_code))]\n\u001b[1;32m---> 33\u001b[0m learn \u001b[38;5;241m=\u001b[39m \u001b[43mloop\u001b[49m\u001b[38;5;241;43m.\u001b[39;49m\u001b[43mrun_until_complete\u001b[49m\u001b[43m(\u001b[49m\u001b[43masyncio\u001b[49m\u001b[38;5;241;43m.\u001b[39;49m\u001b[43mgather\u001b[49m\u001b[43m(\u001b[49m\u001b[38;5;241;43m*\u001b[39;49m\u001b[43mtasks\u001b[49m\u001b[43m)\u001b[49m\u001b[43m)\u001b[49m[\u001b[38;5;241m0\u001b[39m]\n\u001b[0;32m     34\u001b[0m loop\u001b[38;5;241m.\u001b[39mclose()\n",
      "File \u001b[1;32m~\\anaconda3\\lib\\asyncio\\base_events.py:623\u001b[0m, in \u001b[0;36mBaseEventLoop.run_until_complete\u001b[1;34m(self, future)\u001b[0m\n\u001b[0;32m    612\u001b[0m \u001b[38;5;124;03m\"\"\"Run until the Future is done.\u001b[39;00m\n\u001b[0;32m    613\u001b[0m \n\u001b[0;32m    614\u001b[0m \u001b[38;5;124;03mIf the argument is a coroutine, it is wrapped in a Task.\u001b[39;00m\n\u001b[1;32m   (...)\u001b[0m\n\u001b[0;32m    620\u001b[0m \u001b[38;5;124;03mReturn the Future's result, or raise its exception.\u001b[39;00m\n\u001b[0;32m    621\u001b[0m \u001b[38;5;124;03m\"\"\"\u001b[39;00m\n\u001b[0;32m    622\u001b[0m \u001b[38;5;28mself\u001b[39m\u001b[38;5;241m.\u001b[39m_check_closed()\n\u001b[1;32m--> 623\u001b[0m \u001b[38;5;28;43mself\u001b[39;49m\u001b[38;5;241;43m.\u001b[39;49m\u001b[43m_check_running\u001b[49m\u001b[43m(\u001b[49m\u001b[43m)\u001b[49m\n\u001b[0;32m    625\u001b[0m new_task \u001b[38;5;241m=\u001b[39m \u001b[38;5;129;01mnot\u001b[39;00m futures\u001b[38;5;241m.\u001b[39misfuture(future)\n\u001b[0;32m    626\u001b[0m future \u001b[38;5;241m=\u001b[39m tasks\u001b[38;5;241m.\u001b[39mensure_future(future, loop\u001b[38;5;241m=\u001b[39m\u001b[38;5;28mself\u001b[39m)\n",
      "File \u001b[1;32m~\\anaconda3\\lib\\asyncio\\base_events.py:583\u001b[0m, in \u001b[0;36mBaseEventLoop._check_running\u001b[1;34m(self)\u001b[0m\n\u001b[0;32m    581\u001b[0m \u001b[38;5;28;01mdef\u001b[39;00m \u001b[38;5;21m_check_running\u001b[39m(\u001b[38;5;28mself\u001b[39m):\n\u001b[0;32m    582\u001b[0m     \u001b[38;5;28;01mif\u001b[39;00m \u001b[38;5;28mself\u001b[39m\u001b[38;5;241m.\u001b[39mis_running():\n\u001b[1;32m--> 583\u001b[0m         \u001b[38;5;28;01mraise\u001b[39;00m \u001b[38;5;167;01mRuntimeError\u001b[39;00m(\u001b[38;5;124m'\u001b[39m\u001b[38;5;124mThis event loop is already running\u001b[39m\u001b[38;5;124m'\u001b[39m)\n\u001b[0;32m    584\u001b[0m     \u001b[38;5;28;01mif\u001b[39;00m events\u001b[38;5;241m.\u001b[39m_get_running_loop() \u001b[38;5;129;01mis\u001b[39;00m \u001b[38;5;129;01mnot\u001b[39;00m \u001b[38;5;28;01mNone\u001b[39;00m:\n\u001b[0;32m    585\u001b[0m         \u001b[38;5;28;01mraise\u001b[39;00m \u001b[38;5;167;01mRuntimeError\u001b[39;00m(\n\u001b[0;32m    586\u001b[0m             \u001b[38;5;124m'\u001b[39m\u001b[38;5;124mCannot run the event loop while another loop is running\u001b[39m\u001b[38;5;124m'\u001b[39m)\n",
      "\u001b[1;31mRuntimeError\u001b[0m: This event loop is already running"
     ]
    },
    {
     "name": "stdout",
     "output_type": "stream",
     "text": [
      "Done!\n"
     ]
    }
   ],
   "source": [
    "from inltk.inltk import setup\n",
    "setup('ml')"
   ]
  },
  {
   "cell_type": "code",
   "execution_count": 9,
   "id": "018c31fd",
   "metadata": {},
   "outputs": [
    {
     "data": {
      "text/plain": [
       "['▁നിറ',\n",
       " 'മാർ',\n",
       " 'ന്ന',\n",
       " 'ൊരു',\n",
       " '▁കന',\n",
       " 'വ',\n",
       " 'െന്ന',\n",
       " 'ിൽ',\n",
       " '▁തെളി',\n",
       " 'യുന്ന',\n",
       " '▁പോലെ',\n",
       " '▁പുഴ',\n",
       " 'യോ',\n",
       " 'രം',\n",
       " '▁ത',\n",
       " 'ഴുക',\n",
       " 'ുന്ന',\n",
       " 'ീ',\n",
       " '▁ത',\n",
       " 'ണ',\n",
       " 'ു',\n",
       " 'വീ',\n",
       " 'റ',\n",
       " 'ൻ',\n",
       " '▁കാറ്റ',\n",
       " 'ും',\n",
       " '▁പു',\n",
       " 'ള',\n",
       " 'കങ്ങൾ',\n",
       " '▁ഇ',\n",
       " 'ഴ',\n",
       " 'നെ',\n",
       " 'യ്',\n",
       " 'ത',\n",
       " 'ൊരു',\n",
       " '▁കുഴ',\n",
       " 'ലൂ',\n",
       " 'തി',\n",
       " 'യ',\n",
       " '▁പോലെ',\n",
       " '▁കുള',\n",
       " 'ി',\n",
       " 'രേ',\n",
       " 'ക',\n",
       " 'ും',\n",
       " '▁കന',\n",
       " 'വ',\n",
       " 'െന്ന',\n",
       " 'ിൽ',\n",
       " '▁ക',\n",
       " 'തി',\n",
       " 'രാ',\n",
       " 'ടിയ',\n",
       " '▁കാലം',\n",
       " '▁മന',\n",
       " 'താര',\n",
       " 'ിൽ',\n",
       " '▁മധു',\n",
       " 'മാസ',\n",
       " 'ം',\n",
       " '▁ത',\n",
       " 'ളി',\n",
       " 'രാ',\n",
       " 'ടിയ',\n",
       " '▁നേര',\n",
       " 'ം',\n",
       " '▁അക',\n",
       " 'മ',\n",
       " 'രു',\n",
       " 'വും',\n",
       " '▁മ',\n",
       " 'യില',\n",
       " 'ി',\n",
       " 'ണ',\n",
       " 'കൾ',\n",
       " '▁തു',\n",
       " 'യില',\n",
       " 'ു',\n",
       " 'ണ',\n",
       " 'രും',\n",
       " '▁കാലം',\n",
       " '▁എൻ',\n",
       " '▁അക',\n",
       " 'താര',\n",
       " 'ിൽ',\n",
       " '▁അനു',\n",
       " 'രാഗ',\n",
       " 'ം',\n",
       " '▁പകര',\n",
       " 'ുന്ന',\n",
       " '▁',\n",
       " 'യാമ',\n",
       " 'ം']"
      ]
     },
     "execution_count": 9,
     "metadata": {},
     "output_type": "execute_result"
    }
   ],
   "source": [
    "from inltk.inltk import tokenize\n",
    "\n",
    "malayalam_text = \"\"\"നിറമാർന്നൊരു കനവെന്നിൽ തെളിയുന്ന പോലെ\n",
    "പുഴയോരം തഴുകുന്നീ തണുവീറൻ കാറ്റും\n",
    "പുളകങ്ങൾ ഇഴനെയ്തൊരു കുഴലൂതിയ പോലെ\n",
    "കുളിരേകും കനവെന്നിൽ കതിരാടിയ കാലം\n",
    "മനതാരിൽ മധുമാസം തളിരാടിയ നേരം\n",
    "അകമരുവും മയിലിണകൾ തുയിലുണരും കാലം\n",
    "എൻ അകതാരിൽ അനുരാഗം പകരുന്ന യാമം\"\"\"\n",
    "\n",
    "# tokenize(input text, language code)\n",
    "tokenize(malayalam_text, \"ml\")"
   ]
  },
  {
   "cell_type": "markdown",
   "id": "2ce77027",
   "metadata": {},
   "source": [
    "**Translation**\n",
    "\n",
    "*Like appearing in a colorful dream*\n",
    "*A cool breeze caresses the riverside*\n",
    "*Like a coiled tube*\n",
    "*It was a time when Kulirekum Kanaven was in a state of chaos*\n",
    "*Honeymoon time in Manatar*\n",
    "*It's the time when akamaru and peacocks fly*\n",
    "*The yam that spreads love in N Akathar*"
   ]
  },
  {
   "cell_type": "code",
   "execution_count": 36,
   "id": "e71a2c7a",
   "metadata": {},
   "outputs": [
    {
     "name": "stdout",
     "output_type": "stream",
     "text": [
      "Collecting indic-nlp-library\n",
      "  Downloading indic_nlp_library-0.81-py3-none-any.whl (40 kB)\n",
      "Requirement already satisfied: numpy in c:\\users\\admin\\anaconda3\\lib\\site-packages (from indic-nlp-library) (1.21.5)\n",
      "Collecting morfessor\n",
      "  Downloading Morfessor-2.0.6-py3-none-any.whl (35 kB)\n",
      "Collecting sphinx-argparse\n",
      "  Downloading sphinx_argparse-0.3.1-py2.py3-none-any.whl (12 kB)\n",
      "Collecting sphinx-rtd-theme\n",
      "  Downloading sphinx_rtd_theme-1.0.0-py2.py3-none-any.whl (2.8 MB)\n",
      "Requirement already satisfied: pandas in c:\\users\\admin\\anaconda3\\lib\\site-packages (from indic-nlp-library) (1.4.2)\n",
      "Requirement already satisfied: pytz>=2020.1 in c:\\users\\admin\\anaconda3\\lib\\site-packages (from pandas->indic-nlp-library) (2021.3)\n",
      "Requirement already satisfied: python-dateutil>=2.8.1 in c:\\users\\admin\\anaconda3\\lib\\site-packages (from pandas->indic-nlp-library) (2.8.2)\n",
      "Requirement already satisfied: six>=1.5 in c:\\users\\admin\\anaconda3\\lib\\site-packages (from python-dateutil>=2.8.1->pandas->indic-nlp-library) (1.16.0)\n",
      "Requirement already satisfied: sphinx>=1.2.0 in c:\\users\\admin\\anaconda3\\lib\\site-packages (from sphinx-argparse->indic-nlp-library) (4.4.0)\n",
      "Requirement already satisfied: sphinxcontrib-jsmath in c:\\users\\admin\\anaconda3\\lib\\site-packages (from sphinx>=1.2.0->sphinx-argparse->indic-nlp-library) (1.0.1)\n",
      "Requirement already satisfied: sphinxcontrib-devhelp in c:\\users\\admin\\anaconda3\\lib\\site-packages (from sphinx>=1.2.0->sphinx-argparse->indic-nlp-library) (1.0.2)\n",
      "Requirement already satisfied: sphinxcontrib-qthelp in c:\\users\\admin\\anaconda3\\lib\\site-packages (from sphinx>=1.2.0->sphinx-argparse->indic-nlp-library) (1.0.3)\n",
      "Requirement already satisfied: docutils<0.18,>=0.14 in c:\\users\\admin\\anaconda3\\lib\\site-packages (from sphinx>=1.2.0->sphinx-argparse->indic-nlp-library) (0.17.1)\n",
      "Requirement already satisfied: imagesize in c:\\users\\admin\\anaconda3\\lib\\site-packages (from sphinx>=1.2.0->sphinx-argparse->indic-nlp-library) (1.3.0)\n",
      "Requirement already satisfied: sphinxcontrib-applehelp in c:\\users\\admin\\anaconda3\\lib\\site-packages (from sphinx>=1.2.0->sphinx-argparse->indic-nlp-library) (1.0.2)\n",
      "Requirement already satisfied: Pygments>=2.0 in c:\\users\\admin\\anaconda3\\lib\\site-packages (from sphinx>=1.2.0->sphinx-argparse->indic-nlp-library) (2.11.2)\n",
      "Requirement already satisfied: packaging in c:\\users\\admin\\anaconda3\\lib\\site-packages (from sphinx>=1.2.0->sphinx-argparse->indic-nlp-library) (21.3)\n",
      "Requirement already satisfied: colorama>=0.3.5 in c:\\users\\admin\\anaconda3\\lib\\site-packages (from sphinx>=1.2.0->sphinx-argparse->indic-nlp-library) (0.4.4)\n",
      "Requirement already satisfied: sphinxcontrib-serializinghtml>=1.1.5 in c:\\users\\admin\\anaconda3\\lib\\site-packages (from sphinx>=1.2.0->sphinx-argparse->indic-nlp-library) (1.1.5)\n",
      "Requirement already satisfied: requests>=2.5.0 in c:\\users\\admin\\anaconda3\\lib\\site-packages (from sphinx>=1.2.0->sphinx-argparse->indic-nlp-library) (2.27.1)\n",
      "Requirement already satisfied: sphinxcontrib-htmlhelp>=2.0.0 in c:\\users\\admin\\anaconda3\\lib\\site-packages (from sphinx>=1.2.0->sphinx-argparse->indic-nlp-library) (2.0.0)\n",
      "Requirement already satisfied: alabaster<0.8,>=0.7 in c:\\users\\admin\\anaconda3\\lib\\site-packages (from sphinx>=1.2.0->sphinx-argparse->indic-nlp-library) (0.7.12)\n",
      "Requirement already satisfied: importlib-metadata>=4.4 in c:\\users\\admin\\anaconda3\\lib\\site-packages (from sphinx>=1.2.0->sphinx-argparse->indic-nlp-library) (4.11.3)\n",
      "Requirement already satisfied: babel>=1.3 in c:\\users\\admin\\anaconda3\\lib\\site-packages (from sphinx>=1.2.0->sphinx-argparse->indic-nlp-library) (2.9.1)\n",
      "Requirement already satisfied: snowballstemmer>=1.1 in c:\\users\\admin\\anaconda3\\lib\\site-packages (from sphinx>=1.2.0->sphinx-argparse->indic-nlp-library) (2.2.0)\n",
      "Requirement already satisfied: Jinja2>=2.3 in c:\\users\\admin\\anaconda3\\lib\\site-packages (from sphinx>=1.2.0->sphinx-argparse->indic-nlp-library) (2.11.3)\n",
      "Requirement already satisfied: zipp>=0.5 in c:\\users\\admin\\anaconda3\\lib\\site-packages (from importlib-metadata>=4.4->sphinx>=1.2.0->sphinx-argparse->indic-nlp-library) (3.7.0)\n",
      "Requirement already satisfied: MarkupSafe>=0.23 in c:\\users\\admin\\anaconda3\\lib\\site-packages (from Jinja2>=2.3->sphinx>=1.2.0->sphinx-argparse->indic-nlp-library) (2.0.1)\n",
      "Requirement already satisfied: urllib3<1.27,>=1.21.1 in c:\\users\\admin\\anaconda3\\lib\\site-packages (from requests>=2.5.0->sphinx>=1.2.0->sphinx-argparse->indic-nlp-library) (1.26.9)\n",
      "Requirement already satisfied: idna<4,>=2.5 in c:\\users\\admin\\anaconda3\\lib\\site-packages (from requests>=2.5.0->sphinx>=1.2.0->sphinx-argparse->indic-nlp-library) (3.3)\n",
      "Requirement already satisfied: charset-normalizer~=2.0.0 in c:\\users\\admin\\anaconda3\\lib\\site-packages (from requests>=2.5.0->sphinx>=1.2.0->sphinx-argparse->indic-nlp-library) (2.0.4)\n",
      "Requirement already satisfied: certifi>=2017.4.17 in c:\\users\\admin\\anaconda3\\lib\\site-packages (from requests>=2.5.0->sphinx>=1.2.0->sphinx-argparse->indic-nlp-library) (2021.10.8)\n",
      "Requirement already satisfied: pyparsing!=3.0.5,>=2.0.2 in c:\\users\\admin\\anaconda3\\lib\\site-packages (from packaging->sphinx>=1.2.0->sphinx-argparse->indic-nlp-library) (3.0.4)\n",
      "Installing collected packages: sphinx-rtd-theme, sphinx-argparse, morfessor, indic-nlp-library\n",
      "Successfully installed indic-nlp-library-0.81 morfessor-2.0.6 sphinx-argparse-0.3.1 sphinx-rtd-theme-1.0.0\n",
      "Note: you may need to restart the kernel to use updated packages.\n"
     ]
    }
   ],
   "source": [
    "pip install indic-nlp-library"
   ]
  },
  {
   "cell_type": "code",
   "execution_count": 14,
   "id": "8720a77a",
   "metadata": {},
   "outputs": [
    {
     "name": "stdout",
     "output_type": "stream",
     "text": [
      "മോനേ ദിനേശാ എടങ്ങാ കൊമ്പന്റെ കൃഷ്ണമാണിക്യു തൊട്ടി കേട്ടികളേ, ചവിട്ടി താഴ്ത്തും ഒമ്പത് ഞാൻ\n",
      "പാതാളത്തിലേക്ക്!\n",
      "ഉപദേശം കൊല്ലം വർമ്മ സാറേ, പക്ഷേ ചെറിയ ഒരു പ്രേഷണം ഉണ്ട്.\n",
      "തന്തേ താണ്ടാ എലാ എന്റെ താണ്ടാ \n",
      "അങ്കമാലിയിൽ അമ്മവൻ ആരന്ന പറഞ്ഞേ?\n"
     ]
    }
   ],
   "source": [
    "from indicnlp.tokenize import sentence_tokenize\n",
    "\n",
    "indic_string=\"\"\"മോനേ ദിനേശാ എടങ്ങാ കൊമ്പന്റെ കൃഷ്ണമാണിക്യു തൊട്ടി കേട്ടികളേ, ചവിട്ടി താഴ്ത്തും ഒമ്പത് ഞാൻ\n",
    "പാതാളത്തിലേക്ക്!ഉപദേശം കൊല്ലം വർമ്മ സാറേ, പക്ഷേ ചെറിയ ഒരു പ്രേഷണം ഉണ്ട്. തന്തേ താണ്ടാ എലാ എന്റെ താണ്ടാ \n",
    "അങ്കമാലിയിൽ അമ്മവൻ ആരന്ന പറഞ്ഞേ?\"\"\"\n",
    "\n",
    "# Split the sentence, language code \"ml\" is passed for malayalam\n",
    "sentences=sentence_tokenize.sentence_split(indic_string, lang='ml')\n",
    "\n",
    "# print the sentences\n",
    "for t in sentences:\n",
    "    print(t)"
   ]
  },
  {
   "cell_type": "markdown",
   "id": "29febe42",
   "metadata": {},
   "source": [
    "**Translation**\n",
    "\n",
    "<p>Dear Dinesha, come and listen to Krishna Manikyu of the horn, I will trample down nine\n",
    "To hell!</p>\n",
    "\n",
    "<p>Advice is good , Verma Sir. But there is a problem </p>\n",
    "\n",
    "<p>Angamaly Uncle doing what ?</p>\n"
   ]
  },
  {
   "cell_type": "code",
   "execution_count": null,
   "id": "2a80e0fc",
   "metadata": {},
   "outputs": [],
   "source": []
  }
 ],
 "metadata": {
  "kernelspec": {
   "display_name": "Python 3 (ipykernel)",
   "language": "python",
   "name": "python3"
  },
  "language_info": {
   "codemirror_mode": {
    "name": "ipython",
    "version": 3
   },
   "file_extension": ".py",
   "mimetype": "text/x-python",
   "name": "python",
   "nbconvert_exporter": "python",
   "pygments_lexer": "ipython3",
   "version": "3.9.12"
  }
 },
 "nbformat": 4,
 "nbformat_minor": 5
}
