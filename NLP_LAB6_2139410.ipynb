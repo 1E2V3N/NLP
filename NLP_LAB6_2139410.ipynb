{
 "cells": [
  {
   "cell_type": "code",
   "execution_count": 22,
   "id": "2a80e0fc",
   "metadata": {},
   "outputs": [],
   "source": [
    "import numpy as np\n",
    "import nltk \n",
    "from nltk.util import ngrams\n",
    "import pandas as pd\n",
    "\n",
    "from nltk.corpus import stopwords\n",
    "from nltk.tokenize import word_tokenize, sent_tokenize\n",
    "stop_words = set(stopwords.words('english'))"
   ]
  },
  {
   "cell_type": "code",
   "execution_count": 28,
   "id": "e793da9c",
   "metadata": {},
   "outputs": [],
   "source": [
    "df=pd.read_csv('Tweets.csv')\n",
    "col = df['text']"
   ]
  },
  {
   "cell_type": "code",
   "execution_count": 14,
   "id": "62939e53",
   "metadata": {},
   "outputs": [
    {
     "name": "stdout",
     "output_type": "stream",
     "text": [
      "['@', 'VirginAmerica', 'did', 'you', 'know', 'that', 'suicide', 'is', 'the', 'second', 'leading', 'cause', 'of', 'death', 'among', 'teens', '10-24']\n"
     ]
    }
   ],
   "source": [
    "word_tok = nltk.word_tokenize(col.iloc[10])\n",
    "print(word_tok)"
   ]
  },
  {
   "cell_type": "markdown",
   "id": "41c4094e",
   "metadata": {},
   "source": [
    "<center><h2>N-gram</h2></center>"
   ]
  },
  {
   "cell_type": "code",
   "execution_count": 16,
   "id": "3d6ea1f5",
   "metadata": {},
   "outputs": [
    {
     "name": "stdout",
     "output_type": "stream",
     "text": [
      "('@', 'VirginAmerica', 'did', 'you')\n",
      "('VirginAmerica', 'did', 'you', 'know')\n",
      "('did', 'you', 'know', 'that')\n",
      "('you', 'know', 'that', 'suicide')\n",
      "('know', 'that', 'suicide', 'is')\n",
      "('that', 'suicide', 'is', 'the')\n",
      "('suicide', 'is', 'the', 'second')\n",
      "('is', 'the', 'second', 'leading')\n",
      "('the', 'second', 'leading', 'cause')\n",
      "('second', 'leading', 'cause', 'of')\n",
      "('leading', 'cause', 'of', 'death')\n",
      "('cause', 'of', 'death', 'among')\n",
      "('of', 'death', 'among', 'teens')\n",
      "('death', 'among', 'teens', '10-24')\n"
     ]
    }
   ],
   "source": [
    "NGRAMS=ngrams(sequence=nltk.word_tokenize(col.iloc[10]), n=4)\n",
    "for grams in NGRAMS:\n",
    "    print(grams)"
   ]
  },
  {
   "cell_type": "code",
   "execution_count": 17,
   "id": "27d12e29",
   "metadata": {},
   "outputs": [
    {
     "name": "stdout",
     "output_type": "stream",
     "text": [
      "('@', 'VirginAmerica', 'did')\n",
      "('VirginAmerica', 'did', 'you')\n",
      "('did', 'you', 'know')\n",
      "('you', 'know', 'that')\n",
      "('know', 'that', 'suicide')\n",
      "('that', 'suicide', 'is')\n",
      "('suicide', 'is', 'the')\n",
      "('is', 'the', 'second')\n",
      "('the', 'second', 'leading')\n",
      "('second', 'leading', 'cause')\n",
      "('leading', 'cause', 'of')\n",
      "('cause', 'of', 'death')\n",
      "('of', 'death', 'among')\n",
      "('death', 'among', 'teens')\n",
      "('among', 'teens', '10-24')\n"
     ]
    }
   ],
   "source": [
    "NGRAMS=ngrams(sequence=nltk.word_tokenize(col.iloc[10]), n=3)\n",
    "for grams in NGRAMS:\n",
    "    print(grams)"
   ]
  },
  {
   "cell_type": "code",
   "execution_count": 18,
   "id": "e2ed87c7",
   "metadata": {},
   "outputs": [
    {
     "name": "stdout",
     "output_type": "stream",
     "text": [
      "('@', 'VirginAmerica')\n",
      "('VirginAmerica', 'did')\n",
      "('did', 'you')\n",
      "('you', 'know')\n",
      "('know', 'that')\n",
      "('that', 'suicide')\n",
      "('suicide', 'is')\n",
      "('is', 'the')\n",
      "('the', 'second')\n",
      "('second', 'leading')\n",
      "('leading', 'cause')\n",
      "('cause', 'of')\n",
      "('of', 'death')\n",
      "('death', 'among')\n",
      "('among', 'teens')\n",
      "('teens', '10-24')\n"
     ]
    }
   ],
   "source": [
    "NGRAMS=ngrams(sequence=nltk.word_tokenize(col.iloc[10]), n=2)\n",
    "for grams in NGRAMS:\n",
    "    print(grams)"
   ]
  },
  {
   "cell_type": "code",
   "execution_count": 19,
   "id": "45a3101e",
   "metadata": {},
   "outputs": [
    {
     "name": "stdout",
     "output_type": "stream",
     "text": [
      "('@',)\n",
      "('VirginAmerica',)\n",
      "('did',)\n",
      "('you',)\n",
      "('know',)\n",
      "('that',)\n",
      "('suicide',)\n",
      "('is',)\n",
      "('the',)\n",
      "('second',)\n",
      "('leading',)\n",
      "('cause',)\n",
      "('of',)\n",
      "('death',)\n",
      "('among',)\n",
      "('teens',)\n",
      "('10-24',)\n"
     ]
    }
   ],
   "source": [
    "NGRAMS=ngrams(sequence=nltk.word_tokenize(col.iloc[10]), n=1)\n",
    "for grams in NGRAMS:\n",
    "    print(grams)"
   ]
  },
  {
   "cell_type": "markdown",
   "id": "0d6f9fb9",
   "metadata": {},
   "source": [
    "<center><h1>POS Tagging </h1></center>"
   ]
  },
  {
   "cell_type": "code",
   "execution_count": 42,
   "id": "78202555",
   "metadata": {},
   "outputs": [
    {
     "name": "stdout",
     "output_type": "stream",
     "text": [
      "['@', 'VirginAmerica', 'did', 'you', 'know', 'that', 'suicide', 'is', 'the', 'second', 'leading', 'cause', 'of', 'death', 'among', 'teens', '10-24']\n"
     ]
    }
   ],
   "source": [
    "word_tok = nltk.word_tokenize(col.iloc[10])\n",
    "print(word_tok)"
   ]
  },
  {
   "cell_type": "code",
   "execution_count": 44,
   "id": "d3c2872f",
   "metadata": {},
   "outputs": [],
   "source": [
    "word_tok = [w for w in word_tok if not w in stop_words]"
   ]
  },
  {
   "cell_type": "code",
   "execution_count": 45,
   "id": "91db649c",
   "metadata": {},
   "outputs": [
    {
     "name": "stdout",
     "output_type": "stream",
     "text": [
      "[('@', 'NN'), ('VirginAmerica', 'NNP'), ('know', 'NNP'), ('suicide', 'RB'), ('second', 'VBD'), ('leading', 'JJ'), ('cause', 'NN'), ('death', 'NN'), ('among', 'IN'), ('teens', 'NNS'), ('10-24', 'JJ')]\n"
     ]
    }
   ],
   "source": [
    "tagged = nltk.pos_tag(word_tok)\n",
    "print(tagged)"
   ]
  },
  {
   "cell_type": "code",
   "execution_count": null,
   "id": "855f0678",
   "metadata": {},
   "outputs": [],
   "source": []
  }
 ],
 "metadata": {
  "kernelspec": {
   "display_name": "Python 3 (ipykernel)",
   "language": "python",
   "name": "python3"
  },
  "language_info": {
   "codemirror_mode": {
    "name": "ipython",
    "version": 3
   },
   "file_extension": ".py",
   "mimetype": "text/x-python",
   "name": "python",
   "nbconvert_exporter": "python",
   "pygments_lexer": "ipython3",
   "version": "3.9.12"
  }
 },
 "nbformat": 4,
 "nbformat_minor": 5
}
