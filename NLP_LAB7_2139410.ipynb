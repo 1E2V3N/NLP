{
 "cells": [
  {
   "cell_type": "code",
   "execution_count": 1,
   "id": "2a80e0fc",
   "metadata": {},
   "outputs": [],
   "source": [
    "import numpy as np\n",
    "import pandas as pd\n",
    "from inltk.inltk import predict_next_words"
   ]
  },
  {
   "cell_type": "code",
   "execution_count": 2,
   "id": "ce0872b7",
   "metadata": {},
   "outputs": [],
   "source": [
    "import numpy as np\n",
    "\n",
    "lexicon = {}\n",
    "\n",
    "def update_lexicon(current : str, next_word : str) -> None:\n",
    "    # Add the input word to the lexicon if it in there yet.\n",
    "    if current not in lexicon:\n",
    "        lexicon.update({current: {next_word: 1} })\n",
    "        return\n",
    "\n",
    "    # Recieve te probabilties of the input word.\n",
    "    options = lexicon[current]\n",
    "\n",
    "    # Check if the output word is in the propability list.\n",
    "    if next_word not in options:\n",
    "        options.update({next_word : 1})\n",
    "    else:\n",
    "        options.update({next_word : options[next_word] + 1})\n",
    "\n",
    "    # Update the lexicon\n",
    "    lexicon[current] = options"
   ]
  },
  {
   "cell_type": "code",
   "execution_count": 3,
   "id": "1640df40",
   "metadata": {},
   "outputs": [],
   "source": [
    "with open('Harry Potter.txt', 'r') as dataset:\n",
    "    for line in dataset:\n",
    "        words = line.strip().split(' ')\n",
    "        for i in range(len(words) - 1):\n",
    "            update_lexicon(words[i], words[i+1])"
   ]
  },
  {
   "cell_type": "code",
   "execution_count": 12,
   "id": "6016f0e2",
   "metadata": {},
   "outputs": [
    {
     "name": "stdout",
     "output_type": "stream",
     "text": [
      "> Harry \n",
      "Harry  JamesPotter\n"
     ]
    }
   ],
   "source": [
    "for word, transition in lexicon.items():\n",
    "    transition = dict((key, value / sum(transition.values())) \n",
    "                      for key, value in transition.items())\n",
    "    lexicon[word] = transition\n",
    "    \n",
    "line = input('> ')\n",
    "word = line.strip().split(' ')[-1]\n",
    "if word not in lexicon:\n",
    "    print('Word not found')\n",
    "else:\n",
    "    options = lexicon[word]\n",
    "    predicted = np.random.choice(list(options.keys()), p=list(options.values()))\n",
    "    print(line + ' ' + predicted)"
   ]
  },
  {
   "cell_type": "code",
   "execution_count": null,
   "id": "7afe367e",
   "metadata": {},
   "outputs": [],
   "source": []
  }
 ],
 "metadata": {
  "kernelspec": {
   "display_name": "Python 3 (ipykernel)",
   "language": "python",
   "name": "python3"
  },
  "language_info": {
   "codemirror_mode": {
    "name": "ipython",
    "version": 3
   },
   "file_extension": ".py",
   "mimetype": "text/x-python",
   "name": "python",
   "nbconvert_exporter": "python",
   "pygments_lexer": "ipython3",
   "version": "3.9.12"
  }
 },
 "nbformat": 4,
 "nbformat_minor": 5
}
