{
 "cells": [
  {
   "cell_type": "markdown",
   "id": "2fa39ae5",
   "metadata": {},
   "source": [
    "<center><h3> TOPIC : Case study on VirginAmerica twitter dataset using Naive Bayes for exploratory sentiment analysis</h3></center>"
   ]
  },
  {
   "cell_type": "markdown",
   "id": "0e000e23",
   "metadata": {
    "papermill": {
     "duration": 0.011258,
     "end_time": "2022-02-03T15:46:49.886306",
     "exception": false,
     "start_time": "2022-02-03T15:46:49.875048",
     "status": "completed"
    },
    "tags": []
   },
   "source": [
    "\n",
    "\n",
    "#### Contents:\n",
    "* Importing libraries and data\n",
    "* Processing the text into binary vectors\n",
    "* Seperate the data into test and train\n",
    "* Fit Multinomial Naive Bayes and check against test data\n",
    "* Plotting the confusion matrix with Seaborn\n",
    "* Finding the most important predictors for positive and negative sentiments\n",
    "* Checking the predictors against the airline results"
   ]
  },
  {
   "cell_type": "code",
   "execution_count": 1,
   "id": "e4ec9406",
   "metadata": {
    "_cell_guid": "b1076dfc-b9ad-4769-8c92-a6c4dae69d19",
    "_uuid": "8f2839f25d086af736a60e9eeb907d3b93b6e0e5",
    "execution": {
     "iopub.execute_input": "2022-02-03T15:46:49.922455Z",
     "iopub.status.busy": "2022-02-03T15:46:49.916362Z",
     "iopub.status.idle": "2022-02-03T15:46:51.981813Z",
     "shell.execute_reply": "2022-02-03T15:46:51.981004Z",
     "shell.execute_reply.started": "2022-02-03T15:46:04.639849Z"
    },
    "papermill": {
     "duration": 2.084387,
     "end_time": "2022-02-03T15:46:51.981990",
     "exception": false,
     "start_time": "2022-02-03T15:46:49.897603",
     "status": "completed"
    },
    "tags": []
   },
   "outputs": [
    {
     "name": "stdout",
     "output_type": "stream",
     "text": [
      "[nltk_data] Downloading package stopwords to /usr/share/nltk_data...\n",
      "[nltk_data]   Package stopwords is already up-to-date!\n"
     ]
    }
   ],
   "source": [
    "# Import Libraries\n",
    "\n",
    "import numpy as np\n",
    "import pandas as pd\n",
    "\n",
    "import seaborn as sns\n",
    "import matplotlib.pyplot as plt    \n",
    "\n",
    "from sklearn.naive_bayes import MultinomialNB\n",
    "from sklearn.model_selection import train_test_split\n",
    "from sklearn.feature_extraction.text import CountVectorizer\n",
    "from sklearn import metrics\n",
    "\n",
    "import nltk\n",
    "nltk.download('stopwords')\n",
    "from nltk.corpus import stopwords\n"
   ]
  },
  {
   "cell_type": "code",
   "execution_count": 2,
   "id": "49e130c9",
   "metadata": {
    "execution": {
     "iopub.execute_input": "2022-02-03T15:46:52.011505Z",
     "iopub.status.busy": "2022-02-03T15:46:52.010790Z",
     "iopub.status.idle": "2022-02-03T15:46:52.151463Z",
     "shell.execute_reply": "2022-02-03T15:46:52.152008Z",
     "shell.execute_reply.started": "2022-02-03T15:46:04.771947Z"
    },
    "papermill": {
     "duration": 0.159113,
     "end_time": "2022-02-03T15:46:52.152185",
     "exception": false,
     "start_time": "2022-02-03T15:46:51.993072",
     "status": "completed"
    },
    "tags": []
   },
   "outputs": [
    {
     "data": {
      "text/html": [
       "<div>\n",
       "<style scoped>\n",
       "    .dataframe tbody tr th:only-of-type {\n",
       "        vertical-align: middle;\n",
       "    }\n",
       "\n",
       "    .dataframe tbody tr th {\n",
       "        vertical-align: top;\n",
       "    }\n",
       "\n",
       "    .dataframe thead th {\n",
       "        text-align: right;\n",
       "    }\n",
       "</style>\n",
       "<table border=\"1\" class=\"dataframe\">\n",
       "  <thead>\n",
       "    <tr style=\"text-align: right;\">\n",
       "      <th></th>\n",
       "      <th>airline_sentiment</th>\n",
       "      <th>airline</th>\n",
       "      <th>text</th>\n",
       "    </tr>\n",
       "  </thead>\n",
       "  <tbody>\n",
       "    <tr>\n",
       "      <th>0</th>\n",
       "      <td>neutral</td>\n",
       "      <td>Virgin America</td>\n",
       "      <td>@VirginAmerica What @dhepburn said.</td>\n",
       "    </tr>\n",
       "    <tr>\n",
       "      <th>1</th>\n",
       "      <td>positive</td>\n",
       "      <td>Virgin America</td>\n",
       "      <td>@VirginAmerica plus you've added commercials t...</td>\n",
       "    </tr>\n",
       "    <tr>\n",
       "      <th>2</th>\n",
       "      <td>neutral</td>\n",
       "      <td>Virgin America</td>\n",
       "      <td>@VirginAmerica I didn't today... Must mean I n...</td>\n",
       "    </tr>\n",
       "    <tr>\n",
       "      <th>3</th>\n",
       "      <td>negative</td>\n",
       "      <td>Virgin America</td>\n",
       "      <td>@VirginAmerica it's really aggressive to blast...</td>\n",
       "    </tr>\n",
       "    <tr>\n",
       "      <th>4</th>\n",
       "      <td>negative</td>\n",
       "      <td>Virgin America</td>\n",
       "      <td>@VirginAmerica and it's a really big bad thing...</td>\n",
       "    </tr>\n",
       "  </tbody>\n",
       "</table>\n",
       "</div>"
      ],
      "text/plain": [
       "  airline_sentiment         airline  \\\n",
       "0           neutral  Virgin America   \n",
       "1          positive  Virgin America   \n",
       "2           neutral  Virgin America   \n",
       "3          negative  Virgin America   \n",
       "4          negative  Virgin America   \n",
       "\n",
       "                                                text  \n",
       "0                @VirginAmerica What @dhepburn said.  \n",
       "1  @VirginAmerica plus you've added commercials t...  \n",
       "2  @VirginAmerica I didn't today... Must mean I n...  \n",
       "3  @VirginAmerica it's really aggressive to blast...  \n",
       "4  @VirginAmerica and it's a really big bad thing...  "
      ]
     },
     "execution_count": 2,
     "metadata": {},
     "output_type": "execute_result"
    }
   ],
   "source": [
    "# Import data\n",
    "\n",
    "use_cols = ['airline_sentiment', 'text', 'airline']\n",
    "\n",
    "df = pd.read_csv('Tweets.csv', usecols = use_cols)\n",
    "\n",
    "df.head()"
   ]
  },
  {
   "cell_type": "code",
   "execution_count": 3,
   "id": "fe9958b2",
   "metadata": {
    "execution": {
     "iopub.execute_input": "2022-02-03T15:46:52.182581Z",
     "iopub.status.busy": "2022-02-03T15:46:52.181696Z",
     "iopub.status.idle": "2022-02-03T15:46:52.956867Z",
     "shell.execute_reply": "2022-02-03T15:46:52.956293Z",
     "shell.execute_reply.started": "2022-02-03T15:46:04.854629Z"
    },
    "papermill": {
     "duration": 0.79349,
     "end_time": "2022-02-03T15:46:52.957040",
     "exception": false,
     "start_time": "2022-02-03T15:46:52.163550",
     "status": "completed"
    },
    "tags": []
   },
   "outputs": [],
   "source": [
    "# Lets process the text\n",
    "\n",
    "stop_words = stopwords.words('english')\n",
    "\n",
    "df['text_without_stopwords'] = df['text'].apply(lambda x: ' '.join([word for word in x.split() \n",
    "                                                                    if word not in (stop_words)]))\n",
    "\n",
    "countVect = CountVectorizer(min_df= 10)\n",
    "\n",
    "binaryVector = countVect.fit_transform(df.text_without_stopwords)"
   ]
  },
  {
   "cell_type": "code",
   "execution_count": 4,
   "id": "4af2d232",
   "metadata": {
    "execution": {
     "iopub.execute_input": "2022-02-03T15:46:52.987155Z",
     "iopub.status.busy": "2022-02-03T15:46:52.986430Z",
     "iopub.status.idle": "2022-02-03T15:46:52.992489Z",
     "shell.execute_reply": "2022-02-03T15:46:52.993382Z",
     "shell.execute_reply.started": "2022-02-03T15:46:05.630054Z"
    },
    "papermill": {
     "duration": 0.025255,
     "end_time": "2022-02-03T15:46:52.993595",
     "exception": false,
     "start_time": "2022-02-03T15:46:52.968340",
     "status": "completed"
    },
    "tags": []
   },
   "outputs": [
    {
     "name": "stdout",
     "output_type": "stream",
     "text": [
      "[(10980, 1872), (3660, 1872), (10980,), (3660,)]\n"
     ]
    }
   ],
   "source": [
    "# Seperate dataset into test and train\n",
    "\n",
    "y = df.airline_sentiment\n",
    "X = binaryVector\n",
    "\n",
    "train_X, test_X, train_y, test_y = train_test_split(X, y, random_state=123)\n",
    "\n",
    "print([x.shape for x in [train_X, test_X, train_y, test_y]])"
   ]
  },
  {
   "cell_type": "code",
   "execution_count": 5,
   "id": "fbe2d5d4",
   "metadata": {
    "execution": {
     "iopub.execute_input": "2022-02-03T15:46:53.019770Z",
     "iopub.status.busy": "2022-02-03T15:46:53.019110Z",
     "iopub.status.idle": "2022-02-03T15:46:53.094943Z",
     "shell.execute_reply": "2022-02-03T15:46:53.095445Z",
     "shell.execute_reply.started": "2022-02-03T15:46:05.643429Z"
    },
    "papermill": {
     "duration": 0.09055,
     "end_time": "2022-02-03T15:46:53.095656",
     "exception": false,
     "start_time": "2022-02-03T15:46:53.005106",
     "status": "completed"
    },
    "tags": []
   },
   "outputs": [
    {
     "name": "stdout",
     "output_type": "stream",
     "text": [
      "Accuracy:  0.7808743169398907 \n",
      "\n",
      "Confusion Matrix:\n",
      " [[2015  304   76]\n",
      " [ 186  430   60]\n",
      " [ 111   65  413]]\n"
     ]
    }
   ],
   "source": [
    "# Now for testing the naive bayes model\n",
    "\n",
    "MNB = MultinomialNB()\n",
    "MNB.fit(train_X, train_y)\n",
    "\n",
    "predicted = MNB.predict(test_X)\n",
    "accuracy_score = metrics.accuracy_score(predicted, test_y)\n",
    "confusion_count = metrics.confusion_matrix(predicted, test_y)\n",
    "\n",
    "\n",
    "print('Accuracy: ',accuracy_score,'\\n')\n",
    "print('Confusion Matrix:\\n',confusion_count)"
   ]
  },
  {
   "cell_type": "code",
   "execution_count": 6,
   "id": "6a31b253",
   "metadata": {
    "execution": {
     "iopub.execute_input": "2022-02-03T15:46:53.126219Z",
     "iopub.status.busy": "2022-02-03T15:46:53.125534Z",
     "iopub.status.idle": "2022-02-03T15:46:53.463116Z",
     "shell.execute_reply": "2022-02-03T15:46:53.462576Z",
     "shell.execute_reply.started": "2022-02-03T15:46:05.720936Z"
    },
    "papermill": {
     "duration": 0.355864,
     "end_time": "2022-02-03T15:46:53.463270",
     "exception": false,
     "start_time": "2022-02-03T15:46:53.107406",
     "status": "completed"
    },
    "tags": []
   },
   "outputs": [
    {
     "data": {
      "image/png": "[encoded data removed]",
      "text/plain": [
       "<Figure size 432x288 with 2 Axes>"
      ]
     },
     "metadata": {
      "needs_background": "light"
     },
     "output_type": "display_data"
    }
   ],
   "source": [
    "# Lets plot the results properly\n",
    "\n",
    "confusion = metrics.confusion_matrix(predicted, test_y, normalize = 'true')\n",
    "\n",
    "ax= plt.subplot()\n",
    "sns.heatmap(confusion, annot=True, fmt='g', ax=ax); #annot=True to annotate cells, ftm='g' to disable scientific notation\n",
    "\n",
    "# labels, title and ticks\n",
    "ax.set_xlabel('Predicted labels');ax.set_ylabel('True labels'); \n",
    "ax.set_title('Confusion Matrix'); \n",
    "ax.xaxis.set_ticklabels(['negative', 'neutral', 'positive']); \n",
    "ax.yaxis.set_ticklabels(['negative', 'neutral', 'positive']);"
   ]
  },
  {
   "cell_type": "markdown",
   "id": "2d37d973",
   "metadata": {
    "papermill": {
     "duration": 0.012652,
     "end_time": "2022-02-03T15:46:53.488843",
     "exception": false,
     "start_time": "2022-02-03T15:46:53.476191",
     "status": "completed"
    },
    "tags": []
   },
   "source": [
    "The accuracy looks good as does the confusion matrix. It seems especially strong on positive and negative sentiments but weaker on those that are neutral. \n",
    "This is to be expected."
   ]
  },
  {
   "cell_type": "code",
   "execution_count": 7,
   "id": "1cb81e0d",
   "metadata": {
    "execution": {
     "iopub.execute_input": "2022-02-03T15:46:53.521530Z",
     "iopub.status.busy": "2022-02-03T15:46:53.520842Z",
     "iopub.status.idle": "2022-02-03T15:46:53.528045Z",
     "shell.execute_reply": "2022-02-03T15:46:53.528511Z",
     "shell.execute_reply.started": "2022-02-03T15:46:06.030854Z"
    },
    "papermill": {
     "duration": 0.027015,
     "end_time": "2022-02-03T15:46:53.528710",
     "exception": false,
     "start_time": "2022-02-03T15:46:53.501695",
     "status": "completed"
    },
    "tags": []
   },
   "outputs": [
    {
     "name": "stdout",
     "output_type": "stream",
     "text": [
      "Negative words:\n",
      " ['united' 'flight' 'usairways' 'americanair' 'southwestair' 'jetblue'\n",
      " 'get' 'cancelled' 'service' 'hours' 'hold' 'can' 'customer' 'help' 'time'\n",
      " 'plane' 'amp' 'delayed' 'still' 'you' 'us' 'co' 'one' 'call' 'http']\n",
      "\n",
      "Positive words:\n",
      " ['jetblue' 'united' 'southwestair' 'flight' 'co' 'http' 'americanair'\n",
      " 'usairways' 'get' 'please' 'flights' 'virginamerica' 'need' 'thanks'\n",
      " 'help' 'can' 'dm' 'would' 'know' 'it' 'our' 'fleek' 'fleet' 'us' 'you']\n"
     ]
    }
   ],
   "source": [
    "# Lets look for the most important words\n",
    "\n",
    "neg_class_prob_sorted = MNB.feature_log_prob_[0, :].argsort()[::-1]\n",
    "pos_class_prob_sorted = MNB.feature_log_prob_[1, :].argsort()[::-1]\n",
    "\n",
    "print('Negative words:\\n', np.take(countVect.get_feature_names(), neg_class_prob_sorted[:25]))\n",
    "print('\\nPositive words:\\n', np.take(countVect.get_feature_names(), pos_class_prob_sorted[:25]))"
   ]
  },
  {
   "cell_type": "code",
   "execution_count": 8,
   "id": "077e033f",
   "metadata": {
    "execution": {
     "iopub.execute_input": "2022-02-03T15:46:53.558522Z",
     "iopub.status.busy": "2022-02-03T15:46:53.557869Z",
     "iopub.status.idle": "2022-02-03T15:46:53.586595Z",
     "shell.execute_reply": "2022-02-03T15:46:53.587205Z",
     "shell.execute_reply.started": "2022-02-03T15:46:06.045373Z"
    },
    "papermill": {
     "duration": 0.045462,
     "end_time": "2022-02-03T15:46:53.587390",
     "exception": false,
     "start_time": "2022-02-03T15:46:53.541928",
     "status": "completed"
    },
    "tags": []
   },
   "outputs": [
    {
     "data": {
      "text/html": [
       "<div>\n",
       "<style scoped>\n",
       "    .dataframe tbody tr th:only-of-type {\n",
       "        vertical-align: middle;\n",
       "    }\n",
       "\n",
       "    .dataframe tbody tr th {\n",
       "        vertical-align: top;\n",
       "    }\n",
       "\n",
       "    .dataframe thead th {\n",
       "        text-align: right;\n",
       "    }\n",
       "</style>\n",
       "<table border=\"1\" class=\"dataframe\">\n",
       "  <thead>\n",
       "    <tr style=\"text-align: right;\">\n",
       "      <th>airline_sentiment</th>\n",
       "      <th>negative</th>\n",
       "      <th>neutral</th>\n",
       "      <th>positive</th>\n",
       "    </tr>\n",
       "    <tr>\n",
       "      <th>airline</th>\n",
       "      <th></th>\n",
       "      <th></th>\n",
       "      <th></th>\n",
       "    </tr>\n",
       "  </thead>\n",
       "  <tbody>\n",
       "    <tr>\n",
       "      <th>American</th>\n",
       "      <td>1960</td>\n",
       "      <td>463</td>\n",
       "      <td>336</td>\n",
       "    </tr>\n",
       "    <tr>\n",
       "      <th>Delta</th>\n",
       "      <td>955</td>\n",
       "      <td>723</td>\n",
       "      <td>544</td>\n",
       "    </tr>\n",
       "    <tr>\n",
       "      <th>Southwest</th>\n",
       "      <td>1186</td>\n",
       "      <td>664</td>\n",
       "      <td>570</td>\n",
       "    </tr>\n",
       "    <tr>\n",
       "      <th>US Airways</th>\n",
       "      <td>2263</td>\n",
       "      <td>381</td>\n",
       "      <td>269</td>\n",
       "    </tr>\n",
       "    <tr>\n",
       "      <th>United</th>\n",
       "      <td>2633</td>\n",
       "      <td>697</td>\n",
       "      <td>492</td>\n",
       "    </tr>\n",
       "    <tr>\n",
       "      <th>Virgin America</th>\n",
       "      <td>181</td>\n",
       "      <td>171</td>\n",
       "      <td>152</td>\n",
       "    </tr>\n",
       "  </tbody>\n",
       "</table>\n",
       "</div>"
      ],
      "text/plain": [
       "airline_sentiment  negative  neutral  positive\n",
       "airline                                       \n",
       "American               1960      463       336\n",
       "Delta                   955      723       544\n",
       "Southwest              1186      664       570\n",
       "US Airways             2263      381       269\n",
       "United                 2633      697       492\n",
       "Virgin America          181      171       152"
      ]
     },
     "execution_count": 8,
     "metadata": {},
     "output_type": "execute_result"
    }
   ],
   "source": [
    "#These words show a number of airline names so lets \n",
    "#compare this with the positive / negative associations for each airline.\n",
    "\n",
    "piv = df.pivot_table(index=['airline'], columns='airline_sentiment', aggfunc='size', fill_value=0)\n",
    "piv"
   ]
  },
  {
   "cell_type": "code",
   "execution_count": 9,
   "id": "b07f8e03",
   "metadata": {
    "execution": {
     "iopub.execute_input": "2022-02-03T15:46:53.621225Z",
     "iopub.status.busy": "2022-02-03T15:46:53.620450Z",
     "iopub.status.idle": "2022-02-03T15:46:53.884447Z",
     "shell.execute_reply": "2022-02-03T15:46:53.884970Z",
     "shell.execute_reply.started": "2022-02-03T15:46:06.067884Z"
    },
    "papermill": {
     "duration": 0.283292,
     "end_time": "2022-02-03T15:46:53.885148",
     "exception": false,
     "start_time": "2022-02-03T15:46:53.601856",
     "status": "completed"
    },
    "tags": []
   },
   "outputs": [
    {
     "data": {
      "image/png": "[encoded data removed]",
      "text/plain": [
       "<Figure size 432x288 with 1 Axes>"
      ]
     },
     "metadata": {
      "needs_background": "light"
     },
     "output_type": "display_data"
    }
   ],
   "source": [
    "piv.plot(kind='bar')\n",
    "plt.show()"
   ]
  },
  {
   "cell_type": "markdown",
   "id": "1f5f0293",
   "metadata": {
    "papermill": {
     "duration": 0.014066,
     "end_time": "2022-02-03T15:46:53.913695",
     "exception": false,
     "start_time": "2022-02-03T15:46:53.899629",
     "status": "completed"
    },
    "tags": []
   },
   "source": [
    "We would expect from this to see more positive association with Delta, Southwest and Virgin, and more negative assocation with American, US Airways and United.\n",
    "\n",
    "This can be seen to some extent as Southwest and Virgin hold higher places on the positive list and American, US Airways and United higher on the negative list (when compared to themselves). However the difference in passenger numbers blunts this effect, an example of this is United which holds the most negative sentiments and the third most positive. "
   ]
  }
 ],
 "metadata": {
  "kernelspec": {
   "display_name": "Python 3 (ipykernel)",
   "language": "python",
   "name": "python3"
  },
  "language_info": {
   "codemirror_mode": {
    "name": "ipython",
    "version": 3
   },
   "file_extension": ".py",
   "mimetype": "text/x-python",
   "name": "python",
   "nbconvert_exporter": "python",
   "pygments_lexer": "ipython3",
   "version": "3.9.12"
  },
  "papermill": {
   "default_parameters": {},
   "duration": 15.636612,
   "end_time": "2022-02-03T15:46:54.740438",
   "environment_variables": {},
   "exception": null,
   "input_path": "__notebook__.ipynb",
   "output_path": "__notebook__.ipynb",
   "parameters": {},
   "start_time": "2022-02-03T15:46:39.103826",
   "version": "2.3.3"
  }
 },
 "nbformat": 4,
 "nbformat_minor": 5
}
